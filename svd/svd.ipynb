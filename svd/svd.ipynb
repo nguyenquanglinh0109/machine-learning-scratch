{
 "cells": [
  {
   "cell_type": "markdown",
   "id": "25fa83de",
   "metadata": {},
   "source": [
    "# Khái niệm"
   ]
  },
  {
   "cell_type": "markdown",
   "id": "5e717011",
   "metadata": {},
   "source": [
    "Phân rã ma trận SVD\n",
    "+ A = U * S * V.T\n",
    "\n",
    "Toán học\n",
    "+ U là ma trận gồm các vector cột là các vector riêng của A*A.T\n",
    "+ S là ma trận đường chéo với các giá trị là singular value, sqrt(lambda) của gtr A*A.T (hay A.T*A)\n",
    "+ V là ma trận gồm các vector cột là các vector riêng của A.T*A"
   ]
  },
  {
   "cell_type": "markdown",
   "id": "6e921c2f",
   "metadata": {},
   "source": [
    "# Tiếp cận"
   ]
  },
  {
   "cell_type": "markdown",
   "id": "e78a69b8",
   "metadata": {},
   "source": [
    "![Eigenvalue](img_svd/eigenvector.png)"
   ]
  },
  {
   "cell_type": "markdown",
   "id": "ceafb331",
   "metadata": {},
   "source": [
    "Eigenvalue, eigenvector là sự biến đổi ma trận ban đầu sao cho sau biến đổi vẫn giữ nguyên hướng của vector."
   ]
  },
  {
   "cell_type": "markdown",
   "id": "857cd417",
   "metadata": {},
   "source": [
    "![Phép chiếu](img_svd/proj.png)"
   ]
  },
  {
   "cell_type": "markdown",
   "id": "3465d71e",
   "metadata": {},
   "source": [
    "Phép chiếu một vector lên một vector khác, nếu v là một vector đơn vị thì độ dài hình chiếu là w*v, vector chiếu là (w*v)*v."
   ]
  },
  {
   "cell_type": "markdown",
   "id": "eb72c8b5",
   "metadata": {},
   "source": [
    "![Phép chiếu](img_svd/avs.png)"
   ]
  },
  {
   "cell_type": "markdown",
   "id": "a5606a08",
   "metadata": {},
   "source": [
    "Chiếu ma trận A, với mỗi hàng là một bản ghi độc lập lên một hệ cơ sở vector trực chuẩn, ta được S đại diện cho độ dài của các vector chiếu. Do V là trực chuẩn nên A = S * V.T."
   ]
  },
  {
   "cell_type": "markdown",
   "id": "c68935b2",
   "metadata": {},
   "source": [
    "![S2US](img_svd/s2us.png)"
   ]
  },
  {
   "cell_type": "markdown",
   "id": "e8b20fe1",
   "metadata": {},
   "source": [
    "![SUW](img_svd/suw.png)"
   ]
  },
  {
   "cell_type": "markdown",
   "id": "c22b9256",
   "metadata": {},
   "source": [
    "Mỗi cột của S đại diện cho hình chiếu của toàn bộ ma trận A lên một vector v, chuẩn hoá từng vector cột của S thành một vector đơn vị, ta được U. Sigma là độ lớn của các vector cột tương ứng của S."
   ]
  },
  {
   "cell_type": "markdown",
   "id": "f7d2840e",
   "metadata": {},
   "source": [
    "# SVD"
   ]
  },
  {
   "cell_type": "code",
   "execution_count": null,
   "metadata": {},
   "outputs": [
    {
     "data": {
      "text/html": [
       "<div>\n",
       "<style scoped>\n",
       "    .dataframe tbody tr th:only-of-type {\n",
       "        vertical-align: middle;\n",
       "    }\n",
       "\n",
       "    .dataframe tbody tr th {\n",
       "        vertical-align: top;\n",
       "    }\n",
       "\n",
       "    .dataframe thead th {\n",
       "        text-align: right;\n",
       "    }\n",
       "</style>\n",
       "<table border=\"1\" class=\"dataframe\">\n",
       "  <thead>\n",
       "    <tr style=\"text-align: right;\">\n",
       "      <th></th>\n",
       "      <th>sepal length (cm)</th>\n",
       "      <th>sepal width (cm)</th>\n",
       "      <th>petal length (cm)</th>\n",
       "      <th>petal width (cm)</th>\n",
       "      <th>target</th>\n",
       "    </tr>\n",
       "  </thead>\n",
       "  <tbody>\n",
       "    <tr>\n",
       "      <th>0</th>\n",
       "      <td>5.1</td>\n",
       "      <td>3.5</td>\n",
       "      <td>1.4</td>\n",
       "      <td>0.2</td>\n",
       "      <td>0</td>\n",
       "    </tr>\n",
       "    <tr>\n",
       "      <th>1</th>\n",
       "      <td>4.9</td>\n",
       "      <td>3.0</td>\n",
       "      <td>1.4</td>\n",
       "      <td>0.2</td>\n",
       "      <td>0</td>\n",
       "    </tr>\n",
       "    <tr>\n",
       "      <th>2</th>\n",
       "      <td>4.7</td>\n",
       "      <td>3.2</td>\n",
       "      <td>1.3</td>\n",
       "      <td>0.2</td>\n",
       "      <td>0</td>\n",
       "    </tr>\n",
       "    <tr>\n",
       "      <th>3</th>\n",
       "      <td>4.6</td>\n",
       "      <td>3.1</td>\n",
       "      <td>1.5</td>\n",
       "      <td>0.2</td>\n",
       "      <td>0</td>\n",
       "    </tr>\n",
       "    <tr>\n",
       "      <th>4</th>\n",
       "      <td>5.0</td>\n",
       "      <td>3.6</td>\n",
       "      <td>1.4</td>\n",
       "      <td>0.2</td>\n",
       "      <td>0</td>\n",
       "    </tr>\n",
       "  </tbody>\n",
       "</table>\n",
       "</div>"
      ],
      "text/plain": [
       "   sepal length (cm)  sepal width (cm)  ...  petal width (cm)  target\n",
       "0                5.1               3.5  ...               0.2       0\n",
       "1                4.9               3.0  ...               0.2       0\n",
       "2                4.7               3.2  ...               0.2       0\n",
       "3                4.6               3.1  ...               0.2       0\n",
       "4                5.0               3.6  ...               0.2       0\n",
       "\n",
       "[5 rows x 5 columns]"
      ]
     },
     "execution_count": 5,
     "metadata": {},
     "output_type": "execute_result"
    }
   ],
   "source": [
    "from sklearn.datasets import load_iris \n",
    "import pandas as pd \n",
    "\n",
    "iris = load_iris()\n",
    "df = pd.DataFrame(data=iris.data, columns=iris.feature_names)\n",
    "df['target'] = iris.target\n",
    "\n",
    "\n",
    "df.head()"
   ]
  },
  {
   "cell_type": "code",
   "execution_count": 168,
   "id": "44df09a2",
   "metadata": {},
   "outputs": [],
   "source": [
    "import numpy as np\n",
    "A = df.iloc[:, :-1].values\n",
    "\n",
    "# ma trận U gồm các vector riêng ứng với giá trị riêng lớn nhất của A*A^T\n",
    "# U kích thước m x m với m là số bản ghi trong tập dữ liệu\n",
    "ATA = np.dot(A, A.T)  \n",
    "eigenvalues_U, eigenvectors_U = np.linalg.eigh(ATA)  \n",
    "idx = np.argsort(eigenvalues_U)[::-1]\n",
    "eigenvalues_U = eigenvalues_U[idx]\n",
    "eigenvectors_U = eigenvectors_U[:, idx]\n",
    "U = eigenvectors_U\n",
    "\n",
    "m = A.shape[0]\n",
    "n = A.shape[1]\n",
    "\n",
    "# ma trận Sigma là ma trận đường chéo với các giá trị riêng của A*A^T\n",
    "# Sigma kích thước m x n với m là số bản ghi trong tập dữ liệu và n là số thuộc tính\n",
    "sigma_matrix = np.zeros((m, n))\n",
    "sigma_value = np.sqrt(np.maximum(eigenvalues_U, 0))\n",
    "\n",
    "for i in range(min(m, n)):\n",
    "    sigma_matrix[i, i] = sigma_value[i]\n",
    "\n",
    "Sigma = sigma_matrix\n",
    "\n",
    "# ma trận V gồm các vector riêng ứng với giá trị riêng lớn nhất của A^T*A\n",
    "AAT = np.dot(A.T, A)  \n",
    "eigenvalues_V, eigenvectors_V = np.linalg.eigh(AAT)\n",
    "idx = np.argsort(eigenvalues_V)[::-1]\n",
    "eigenvalues_V = eigenvalues_V[idx]\n",
    "eigenvectors_V = eigenvectors_V[:, idx]\n",
    "V = eigenvectors_V\n",
    "\n",
    "for i in range(V_t.shape[0]):\n",
    "    # Nếu dấu của U[:, i] và V_t[i, :] không khớp với kết quả SVD thì đổi chiều\n",
    "    if np.sign(U[0, i]) != np.sign(V_t[i, 0]):\n",
    "        U[:, i] *= -1\n"
   ]
  },
  {
   "cell_type": "code",
   "execution_count": 169,
   "id": "d45aed0b",
   "metadata": {},
   "outputs": [
    {
     "data": {
      "text/plain": [
       "array([[5.1, 3.5, 1.4, 0.2],\n",
       "       [4.9, 3. , 1.4, 0.2],\n",
       "       [4.7, 3.2, 1.3, 0.2],\n",
       "       [4.6, 3.1, 1.5, 0.2],\n",
       "       [5. , 3.6, 1.4, 0.2],\n",
       "       [5.4, 3.9, 1.7, 0.4],\n",
       "       [4.6, 3.4, 1.4, 0.3],\n",
       "       [5. , 3.4, 1.5, 0.2],\n",
       "       [4.4, 2.9, 1.4, 0.2],\n",
       "       [4.9, 3.1, 1.5, 0.1],\n",
       "       [5.4, 3.7, 1.5, 0.2],\n",
       "       [4.8, 3.4, 1.6, 0.2],\n",
       "       [4.8, 3. , 1.4, 0.1],\n",
       "       [4.3, 3. , 1.1, 0.1],\n",
       "       [5.8, 4. , 1.2, 0.2],\n",
       "       [5.7, 4.4, 1.5, 0.4],\n",
       "       [5.4, 3.9, 1.3, 0.4],\n",
       "       [5.1, 3.5, 1.4, 0.3],\n",
       "       [5.7, 3.8, 1.7, 0.3],\n",
       "       [5.1, 3.8, 1.5, 0.3],\n",
       "       [5.4, 3.4, 1.7, 0.2],\n",
       "       [5.1, 3.7, 1.5, 0.4],\n",
       "       [4.6, 3.6, 1. , 0.2],\n",
       "       [5.1, 3.3, 1.7, 0.5],\n",
       "       [4.8, 3.4, 1.9, 0.2],\n",
       "       [5. , 3. , 1.6, 0.2],\n",
       "       [5. , 3.4, 1.6, 0.4],\n",
       "       [5.2, 3.5, 1.5, 0.2],\n",
       "       [5.2, 3.4, 1.4, 0.2],\n",
       "       [4.7, 3.2, 1.6, 0.2],\n",
       "       [4.8, 3.1, 1.6, 0.2],\n",
       "       [5.4, 3.4, 1.5, 0.4],\n",
       "       [5.2, 4.1, 1.5, 0.1],\n",
       "       [5.5, 4.2, 1.4, 0.2],\n",
       "       [4.9, 3.1, 1.5, 0.2],\n",
       "       [5. , 3.2, 1.2, 0.2],\n",
       "       [5.5, 3.5, 1.3, 0.2],\n",
       "       [4.9, 3.6, 1.4, 0.1],\n",
       "       [4.4, 3. , 1.3, 0.2],\n",
       "       [5.1, 3.4, 1.5, 0.2],\n",
       "       [5. , 3.5, 1.3, 0.3],\n",
       "       [4.5, 2.3, 1.3, 0.3],\n",
       "       [4.4, 3.2, 1.3, 0.2],\n",
       "       [5. , 3.5, 1.6, 0.6],\n",
       "       [5.1, 3.8, 1.9, 0.4],\n",
       "       [4.8, 3. , 1.4, 0.3],\n",
       "       [5.1, 3.8, 1.6, 0.2],\n",
       "       [4.6, 3.2, 1.4, 0.2],\n",
       "       [5.3, 3.7, 1.5, 0.2],\n",
       "       [5. , 3.3, 1.4, 0.2],\n",
       "       [7. , 3.2, 4.7, 1.4],\n",
       "       [6.4, 3.2, 4.5, 1.5],\n",
       "       [6.9, 3.1, 4.9, 1.5],\n",
       "       [5.5, 2.3, 4. , 1.3],\n",
       "       [6.5, 2.8, 4.6, 1.5],\n",
       "       [5.7, 2.8, 4.5, 1.3],\n",
       "       [6.3, 3.3, 4.7, 1.6],\n",
       "       [4.9, 2.4, 3.3, 1. ],\n",
       "       [6.6, 2.9, 4.6, 1.3],\n",
       "       [5.2, 2.7, 3.9, 1.4],\n",
       "       [5. , 2. , 3.5, 1. ],\n",
       "       [5.9, 3. , 4.2, 1.5],\n",
       "       [6. , 2.2, 4. , 1. ],\n",
       "       [6.1, 2.9, 4.7, 1.4],\n",
       "       [5.6, 2.9, 3.6, 1.3],\n",
       "       [6.7, 3.1, 4.4, 1.4],\n",
       "       [5.6, 3. , 4.5, 1.5],\n",
       "       [5.8, 2.7, 4.1, 1. ],\n",
       "       [6.2, 2.2, 4.5, 1.5],\n",
       "       [5.6, 2.5, 3.9, 1.1],\n",
       "       [5.9, 3.2, 4.8, 1.8],\n",
       "       [6.1, 2.8, 4. , 1.3],\n",
       "       [6.3, 2.5, 4.9, 1.5],\n",
       "       [6.1, 2.8, 4.7, 1.2],\n",
       "       [6.4, 2.9, 4.3, 1.3],\n",
       "       [6.6, 3. , 4.4, 1.4],\n",
       "       [6.8, 2.8, 4.8, 1.4],\n",
       "       [6.7, 3. , 5. , 1.7],\n",
       "       [6. , 2.9, 4.5, 1.5],\n",
       "       [5.7, 2.6, 3.5, 1. ],\n",
       "       [5.5, 2.4, 3.8, 1.1],\n",
       "       [5.5, 2.4, 3.7, 1. ],\n",
       "       [5.8, 2.7, 3.9, 1.2],\n",
       "       [6. , 2.7, 5.1, 1.6],\n",
       "       [5.4, 3. , 4.5, 1.5],\n",
       "       [6. , 3.4, 4.5, 1.6],\n",
       "       [6.7, 3.1, 4.7, 1.5],\n",
       "       [6.3, 2.3, 4.4, 1.3],\n",
       "       [5.6, 3. , 4.1, 1.3],\n",
       "       [5.5, 2.5, 4. , 1.3],\n",
       "       [5.5, 2.6, 4.4, 1.2],\n",
       "       [6.1, 3. , 4.6, 1.4],\n",
       "       [5.8, 2.6, 4. , 1.2],\n",
       "       [5. , 2.3, 3.3, 1. ],\n",
       "       [5.6, 2.7, 4.2, 1.3],\n",
       "       [5.7, 3. , 4.2, 1.2],\n",
       "       [5.7, 2.9, 4.2, 1.3],\n",
       "       [6.2, 2.9, 4.3, 1.3],\n",
       "       [5.1, 2.5, 3. , 1.1],\n",
       "       [5.7, 2.8, 4.1, 1.3],\n",
       "       [6.3, 3.3, 6. , 2.5],\n",
       "       [5.8, 2.7, 5.1, 1.9],\n",
       "       [7.1, 3. , 5.9, 2.1],\n",
       "       [6.3, 2.9, 5.6, 1.8],\n",
       "       [6.5, 3. , 5.8, 2.2],\n",
       "       [7.6, 3. , 6.6, 2.1],\n",
       "       [4.9, 2.5, 4.5, 1.7],\n",
       "       [7.3, 2.9, 6.3, 1.8],\n",
       "       [6.7, 2.5, 5.8, 1.8],\n",
       "       [7.2, 3.6, 6.1, 2.5],\n",
       "       [6.5, 3.2, 5.1, 2. ],\n",
       "       [6.4, 2.7, 5.3, 1.9],\n",
       "       [6.8, 3. , 5.5, 2.1],\n",
       "       [5.7, 2.5, 5. , 2. ],\n",
       "       [5.8, 2.8, 5.1, 2.4],\n",
       "       [6.4, 3.2, 5.3, 2.3],\n",
       "       [6.5, 3. , 5.5, 1.8],\n",
       "       [7.7, 3.8, 6.7, 2.2],\n",
       "       [7.7, 2.6, 6.9, 2.3],\n",
       "       [6. , 2.2, 5. , 1.5],\n",
       "       [6.9, 3.2, 5.7, 2.3],\n",
       "       [5.6, 2.8, 4.9, 2. ],\n",
       "       [7.7, 2.8, 6.7, 2. ],\n",
       "       [6.3, 2.7, 4.9, 1.8],\n",
       "       [6.7, 3.3, 5.7, 2.1],\n",
       "       [7.2, 3.2, 6. , 1.8],\n",
       "       [6.2, 2.8, 4.8, 1.8],\n",
       "       [6.1, 3. , 4.9, 1.8],\n",
       "       [6.4, 2.8, 5.6, 2.1],\n",
       "       [7.2, 3. , 5.8, 1.6],\n",
       "       [7.4, 2.8, 6.1, 1.9],\n",
       "       [7.9, 3.8, 6.4, 2. ],\n",
       "       [6.4, 2.8, 5.6, 2.2],\n",
       "       [6.3, 2.8, 5.1, 1.5],\n",
       "       [6.1, 2.6, 5.6, 1.4],\n",
       "       [7.7, 3. , 6.1, 2.3],\n",
       "       [6.3, 3.4, 5.6, 2.4],\n",
       "       [6.4, 3.1, 5.5, 1.8],\n",
       "       [6. , 3. , 4.8, 1.8],\n",
       "       [6.9, 3.1, 5.4, 2.1],\n",
       "       [6.7, 3.1, 5.6, 2.4],\n",
       "       [6.9, 3.1, 5.1, 2.3],\n",
       "       [5.8, 2.7, 5.1, 1.9],\n",
       "       [6.8, 3.2, 5.9, 2.3],\n",
       "       [6.7, 3.3, 5.7, 2.5],\n",
       "       [6.7, 3. , 5.2, 2.3],\n",
       "       [6.3, 2.5, 5. , 1.9],\n",
       "       [6.5, 3. , 5.2, 2. ],\n",
       "       [6.2, 3.4, 5.4, 2.3],\n",
       "       [5.9, 3. , 5.1, 1.8]])"
      ]
     },
     "execution_count": 169,
     "metadata": {},
     "output_type": "execute_result"
    }
   ],
   "source": [
    "U @ Sigma_matrix @ V_t\n"
   ]
  },
  {
   "cell_type": "markdown",
   "id": "072df305",
   "metadata": {},
   "source": [
    "# Sử dụng thư viện"
   ]
  },
  {
   "cell_type": "code",
   "execution_count": null,
   "id": "46f06d4e",
   "metadata": {},
   "outputs": [
    {
     "name": "stdout",
     "output_type": "stream",
     "text": [
      "Kích thước của U, Sigma, Vt: (150, 150) (150, 4) (4, 4)\n",
      "So sánh lấy 1 phần và toàn bộ: True\n"
     ]
    }
   ],
   "source": [
    "u, sigma, vt = np.linalg.svd(A) \n",
    "Sigma = np.zeros((u.shape[1], vt.shape[0]))\n",
    "sigma2 = np.fill_diagonal(Sigma, sigma)\n",
    "print(\"Kích thước của U, Sigma, Vt:\", u.shape, Sigma.shape, vt.shape)\n",
    "b = u @ Sigma @ vt\n",
    "c = u[:, :4] @ Sigma[:4, :] @ vt[:4, :4]\n",
    "print(\"So sánh lấy 1 phần và toàn bộ:\", np.allclose(b, c)) \n",
    "# do Sigma chỉ gồm 4 cột tương ứng với 4 singular value phần còn lại là 0"
   ]
  },
  {
   "cell_type": "code",
   "execution_count": 185,
   "id": "8502c526",
   "metadata": {},
   "outputs": [
    {
     "name": "stdout",
     "output_type": "stream",
     "text": [
      "(150, 4) (4, 4) (4, 4)\n"
     ]
    },
    {
     "data": {
      "text/plain": [
       "array([[5.1, 3.5, 1.4, 0.2],\n",
       "       [4.9, 3. , 1.4, 0.2],\n",
       "       [4.7, 3.2, 1.3, 0.2],\n",
       "       [4.6, 3.1, 1.5, 0.2],\n",
       "       [5. , 3.6, 1.4, 0.2],\n",
       "       [5.4, 3.9, 1.7, 0.4],\n",
       "       [4.6, 3.4, 1.4, 0.3],\n",
       "       [5. , 3.4, 1.5, 0.2],\n",
       "       [4.4, 2.9, 1.4, 0.2],\n",
       "       [4.9, 3.1, 1.5, 0.1],\n",
       "       [5.4, 3.7, 1.5, 0.2],\n",
       "       [4.8, 3.4, 1.6, 0.2],\n",
       "       [4.8, 3. , 1.4, 0.1],\n",
       "       [4.3, 3. , 1.1, 0.1],\n",
       "       [5.8, 4. , 1.2, 0.2],\n",
       "       [5.7, 4.4, 1.5, 0.4],\n",
       "       [5.4, 3.9, 1.3, 0.4],\n",
       "       [5.1, 3.5, 1.4, 0.3],\n",
       "       [5.7, 3.8, 1.7, 0.3],\n",
       "       [5.1, 3.8, 1.5, 0.3],\n",
       "       [5.4, 3.4, 1.7, 0.2],\n",
       "       [5.1, 3.7, 1.5, 0.4],\n",
       "       [4.6, 3.6, 1. , 0.2],\n",
       "       [5.1, 3.3, 1.7, 0.5],\n",
       "       [4.8, 3.4, 1.9, 0.2],\n",
       "       [5. , 3. , 1.6, 0.2],\n",
       "       [5. , 3.4, 1.6, 0.4],\n",
       "       [5.2, 3.5, 1.5, 0.2],\n",
       "       [5.2, 3.4, 1.4, 0.2],\n",
       "       [4.7, 3.2, 1.6, 0.2],\n",
       "       [4.8, 3.1, 1.6, 0.2],\n",
       "       [5.4, 3.4, 1.5, 0.4],\n",
       "       [5.2, 4.1, 1.5, 0.1],\n",
       "       [5.5, 4.2, 1.4, 0.2],\n",
       "       [4.9, 3.1, 1.5, 0.2],\n",
       "       [5. , 3.2, 1.2, 0.2],\n",
       "       [5.5, 3.5, 1.3, 0.2],\n",
       "       [4.9, 3.6, 1.4, 0.1],\n",
       "       [4.4, 3. , 1.3, 0.2],\n",
       "       [5.1, 3.4, 1.5, 0.2],\n",
       "       [5. , 3.5, 1.3, 0.3],\n",
       "       [4.5, 2.3, 1.3, 0.3],\n",
       "       [4.4, 3.2, 1.3, 0.2],\n",
       "       [5. , 3.5, 1.6, 0.6],\n",
       "       [5.1, 3.8, 1.9, 0.4],\n",
       "       [4.8, 3. , 1.4, 0.3],\n",
       "       [5.1, 3.8, 1.6, 0.2],\n",
       "       [4.6, 3.2, 1.4, 0.2],\n",
       "       [5.3, 3.7, 1.5, 0.2],\n",
       "       [5. , 3.3, 1.4, 0.2],\n",
       "       [7. , 3.2, 4.7, 1.4],\n",
       "       [6.4, 3.2, 4.5, 1.5],\n",
       "       [6.9, 3.1, 4.9, 1.5],\n",
       "       [5.5, 2.3, 4. , 1.3],\n",
       "       [6.5, 2.8, 4.6, 1.5],\n",
       "       [5.7, 2.8, 4.5, 1.3],\n",
       "       [6.3, 3.3, 4.7, 1.6],\n",
       "       [4.9, 2.4, 3.3, 1. ],\n",
       "       [6.6, 2.9, 4.6, 1.3],\n",
       "       [5.2, 2.7, 3.9, 1.4],\n",
       "       [5. , 2. , 3.5, 1. ],\n",
       "       [5.9, 3. , 4.2, 1.5],\n",
       "       [6. , 2.2, 4. , 1. ],\n",
       "       [6.1, 2.9, 4.7, 1.4],\n",
       "       [5.6, 2.9, 3.6, 1.3],\n",
       "       [6.7, 3.1, 4.4, 1.4],\n",
       "       [5.6, 3. , 4.5, 1.5],\n",
       "       [5.8, 2.7, 4.1, 1. ],\n",
       "       [6.2, 2.2, 4.5, 1.5],\n",
       "       [5.6, 2.5, 3.9, 1.1],\n",
       "       [5.9, 3.2, 4.8, 1.8],\n",
       "       [6.1, 2.8, 4. , 1.3],\n",
       "       [6.3, 2.5, 4.9, 1.5],\n",
       "       [6.1, 2.8, 4.7, 1.2],\n",
       "       [6.4, 2.9, 4.3, 1.3],\n",
       "       [6.6, 3. , 4.4, 1.4],\n",
       "       [6.8, 2.8, 4.8, 1.4],\n",
       "       [6.7, 3. , 5. , 1.7],\n",
       "       [6. , 2.9, 4.5, 1.5],\n",
       "       [5.7, 2.6, 3.5, 1. ],\n",
       "       [5.5, 2.4, 3.8, 1.1],\n",
       "       [5.5, 2.4, 3.7, 1. ],\n",
       "       [5.8, 2.7, 3.9, 1.2],\n",
       "       [6. , 2.7, 5.1, 1.6],\n",
       "       [5.4, 3. , 4.5, 1.5],\n",
       "       [6. , 3.4, 4.5, 1.6],\n",
       "       [6.7, 3.1, 4.7, 1.5],\n",
       "       [6.3, 2.3, 4.4, 1.3],\n",
       "       [5.6, 3. , 4.1, 1.3],\n",
       "       [5.5, 2.5, 4. , 1.3],\n",
       "       [5.5, 2.6, 4.4, 1.2],\n",
       "       [6.1, 3. , 4.6, 1.4],\n",
       "       [5.8, 2.6, 4. , 1.2],\n",
       "       [5. , 2.3, 3.3, 1. ],\n",
       "       [5.6, 2.7, 4.2, 1.3],\n",
       "       [5.7, 3. , 4.2, 1.2],\n",
       "       [5.7, 2.9, 4.2, 1.3],\n",
       "       [6.2, 2.9, 4.3, 1.3],\n",
       "       [5.1, 2.5, 3. , 1.1],\n",
       "       [5.7, 2.8, 4.1, 1.3],\n",
       "       [6.3, 3.3, 6. , 2.5],\n",
       "       [5.8, 2.7, 5.1, 1.9],\n",
       "       [7.1, 3. , 5.9, 2.1],\n",
       "       [6.3, 2.9, 5.6, 1.8],\n",
       "       [6.5, 3. , 5.8, 2.2],\n",
       "       [7.6, 3. , 6.6, 2.1],\n",
       "       [4.9, 2.5, 4.5, 1.7],\n",
       "       [7.3, 2.9, 6.3, 1.8],\n",
       "       [6.7, 2.5, 5.8, 1.8],\n",
       "       [7.2, 3.6, 6.1, 2.5],\n",
       "       [6.5, 3.2, 5.1, 2. ],\n",
       "       [6.4, 2.7, 5.3, 1.9],\n",
       "       [6.8, 3. , 5.5, 2.1],\n",
       "       [5.7, 2.5, 5. , 2. ],\n",
       "       [5.8, 2.8, 5.1, 2.4],\n",
       "       [6.4, 3.2, 5.3, 2.3],\n",
       "       [6.5, 3. , 5.5, 1.8],\n",
       "       [7.7, 3.8, 6.7, 2.2],\n",
       "       [7.7, 2.6, 6.9, 2.3],\n",
       "       [6. , 2.2, 5. , 1.5],\n",
       "       [6.9, 3.2, 5.7, 2.3],\n",
       "       [5.6, 2.8, 4.9, 2. ],\n",
       "       [7.7, 2.8, 6.7, 2. ],\n",
       "       [6.3, 2.7, 4.9, 1.8],\n",
       "       [6.7, 3.3, 5.7, 2.1],\n",
       "       [7.2, 3.2, 6. , 1.8],\n",
       "       [6.2, 2.8, 4.8, 1.8],\n",
       "       [6.1, 3. , 4.9, 1.8],\n",
       "       [6.4, 2.8, 5.6, 2.1],\n",
       "       [7.2, 3. , 5.8, 1.6],\n",
       "       [7.4, 2.8, 6.1, 1.9],\n",
       "       [7.9, 3.8, 6.4, 2. ],\n",
       "       [6.4, 2.8, 5.6, 2.2],\n",
       "       [6.3, 2.8, 5.1, 1.5],\n",
       "       [6.1, 2.6, 5.6, 1.4],\n",
       "       [7.7, 3. , 6.1, 2.3],\n",
       "       [6.3, 3.4, 5.6, 2.4],\n",
       "       [6.4, 3.1, 5.5, 1.8],\n",
       "       [6. , 3. , 4.8, 1.8],\n",
       "       [6.9, 3.1, 5.4, 2.1],\n",
       "       [6.7, 3.1, 5.6, 2.4],\n",
       "       [6.9, 3.1, 5.1, 2.3],\n",
       "       [5.8, 2.7, 5.1, 1.9],\n",
       "       [6.8, 3.2, 5.9, 2.3],\n",
       "       [6.7, 3.3, 5.7, 2.5],\n",
       "       [6.7, 3. , 5.2, 2.3],\n",
       "       [6.3, 2.5, 5. , 1.9],\n",
       "       [6.5, 3. , 5.2, 2. ],\n",
       "       [6.2, 3.4, 5.4, 2.3],\n",
       "       [5.9, 3. , 5.1, 1.8]])"
      ]
     },
     "execution_count": 185,
     "metadata": {},
     "output_type": "execute_result"
    }
   ],
   "source": [
    "u, sigma2, vt = np.linalg.svd(A, full_matrices=False) \n",
    "sigma2 = np.diag(sigma2)\n",
    "print(u.shape, sigma2.shape, vt.shape)\n",
    "u @ sigma2 @ vt\n"
   ]
  },
  {
   "cell_type": "markdown",
   "id": "3a4abb20",
   "metadata": {},
   "source": [
    "## Ví dụ 2"
   ]
  },
  {
   "cell_type": "code",
   "execution_count": 125,
   "id": "45397188",
   "metadata": {},
   "outputs": [
    {
     "name": "stdout",
     "output_type": "stream",
     "text": [
      "Ma trận A:\n",
      " [[1 6 6]\n",
      " [0 3 1]\n",
      " [4 6 1]\n",
      " [5 7 7]]\n",
      "Ma trận U:\n",
      " [[-0.53159604 -0.55109215 -0.4408708  -0.46833325]\n",
      " [-0.17943529  0.02901476 -0.62572822  0.75856794]\n",
      " [-0.41934812  0.82966761 -0.20911901 -0.30342717]\n",
      " [-0.71369165 -0.08430451  0.60857733  0.33640839]]\n",
      "Ma trận Sigma:\n",
      " [[15.39072664  0.          0.        ]\n",
      " [ 0.          4.01229511  0.        ]\n",
      " [ 0.          0.          2.45499926]\n",
      " [ 0.          0.          0.        ]]\n",
      "Ma trận V_t:\n",
      " [[-0.37538493 -0.73029771 -0.57074636]\n",
      " [-0.58471665 -0.2911963   0.75717313]\n",
      " [-0.71916104  0.61795628 -0.31770653]]\n",
      "Ma trận A tái tạo:\n",
      " [[5.14253571 5.95007961 3.33929322]\n",
      " [2.07335568 1.033638   2.15239139]\n",
      " [0.84552295 3.42678851 6.36727661]\n",
      " [3.24663113 9.04352065 5.53842222]]\n"
     ]
    }
   ],
   "source": [
    "A = np.array([[1,6,6], [0,3,1], [4,6,1], [5,7,7]])\n",
    "# A = np.array([[4,2,0],[1,5,6]])\n",
    "print(\"Ma trận A:\\n\", A)\n",
    "\n",
    "eigenvalues, eigenvectors = np.linalg.eigh(np.dot(A, A.T))\n",
    "index = np.argsort(eigenvalues)[::-1]\n",
    "\n",
    "eigenvalues = eigenvalues[index]\n",
    "eigenvectors = eigenvectors[:, index]\n",
    "U = eigenvectors\n",
    "print(\"Ma trận U:\\n\", U)\n",
    "\n",
    "np.sqrt(eigenvalues)\n",
    "Sigma = np.zeros((A.shape[0], A.shape[1]))\n",
    "for i in range(np.min(A.shape)):\n",
    "    Sigma[i, i] = np.sqrt(eigenvalues[i])\n",
    "print(\"Ma trận Sigma:\\n\", Sigma)\n",
    "\n",
    "\n",
    "eigenvalues_v, eigenvectors_v = np.linalg.eigh(np.dot(A.T, A))\n",
    "index_v= np.argsort(eigenvalues_v)[::-1]\n",
    "eigenvalues_v = eigenvalues_v[index_v]\n",
    "eigenvectors_v = eigenvectors_v[:, index_v]\n",
    "V = eigenvectors_v\n",
    "V_t = V.T\n",
    "# V_t[1:, :] = V_t[1:, :]*-1\n",
    "print(\"Ma trận V_t:\\n\", V_t)\n",
    "\n",
    "\n",
    "A_reconstructed = U @ Sigma @ V_t\n",
    "print(\"Ma trận A tái tạo:\\n\", A_reconstructed)"
   ]
  },
  {
   "cell_type": "markdown",
   "id": "1aa575bd",
   "metadata": {},
   "source": [
    "# SVD applicationss"
   ]
  },
  {
   "cell_type": "code",
   "execution_count": 188,
   "id": "6b049ed6",
   "metadata": {},
   "outputs": [],
   "source": [
    "import cv2\n",
    "import numpy as np\n",
    "img = cv2.imread('img_svd/dog.jfif')"
   ]
  },
  {
   "cell_type": "code",
   "execution_count": 189,
   "id": "9e610e6d",
   "metadata": {},
   "outputs": [],
   "source": [
    "def convert_to_gray(img, ratio):\n",
    "    n, h, w = img.shape\n",
    "    gray_img = np.zeros((n, h), dtype=np.uint8)\n",
    "    for i in range(n):\n",
    "        for j in range(h):\n",
    "            gray_img[i, j] = int(np.sum(img[i, j, :] * ratio))\n",
    "\n",
    "    return gray_img"
   ]
  },
  {
   "cell_type": "code",
   "execution_count": 190,
   "id": "6e3e2a23",
   "metadata": {},
   "outputs": [],
   "source": [
    "cv2.imshow('Original Image', img)\n",
    "cv2.waitKey(0)\n",
    "cv2.destroyAllWindows()"
   ]
  },
  {
   "cell_type": "code",
   "execution_count": 192,
   "id": "ddaa44f0",
   "metadata": {},
   "outputs": [],
   "source": [
    "ratio = [0.2126, 0.7152, 0.0722]\n",
    "gray_img = convert_to_gray(img, ratio)\n",
    "cv2.imshow('Gray Image', gray_img)\n",
    "cv2.waitKey(0)\n",
    "cv2.destroyAllWindows()"
   ]
  },
  {
   "cell_type": "code",
   "execution_count": 13,
   "id": "2f0a0810",
   "metadata": {},
   "outputs": [],
   "source": [
    "def compute_cosince_similarity(A, B):\n",
    "    numerator = A * B\n",
    "    denominator = np.sqrt(np.sum(A**2)) * np.sqrt(np.sum(B**2))\n",
    "    return np.sum(numerator) / denominator"
   ]
  },
  {
   "cell_type": "code",
   "execution_count": 14,
   "id": "3e3ec65c",
   "metadata": {},
   "outputs": [
    {
     "name": "stdout",
     "output_type": "stream",
     "text": [
      "Cosine Similarity: 0.9621286203216846\n"
     ]
    }
   ],
   "source": [
    "A = np.array([[1, 2, 3], [4, 5, 6]])\n",
    "B = np.array([[7, 8, 9], [10, 11, 12]]) \n",
    "similarity = compute_cosince_similarity(A, B)\n",
    "print(\"Cosine Similarity:\", similarity)"
   ]
  },
  {
   "cell_type": "code",
   "execution_count": 15,
   "metadata": {},
   "outputs": [],
   "source": [
    "def compute_rms_error(A, B):\n",
    "    return np.sqrt(np.sum((A - B)**2) / A.size)"
   ]
  },
  {
   "cell_type": "code",
   "execution_count": 16,
   "id": "1763be86",
   "metadata": {},
   "outputs": [
    {
     "name": "stdout",
     "output_type": "stream",
     "text": [
      "RMS Error: 6.0\n"
     ]
    }
   ],
   "source": [
    "A = np.array([[1, 2, 3], [4, 5, 6]])\n",
    "B = np.array([[7, 8, 9], [10, 11, 12]]) \n",
    "error = compute_rms_error(A, B) \n",
    "print(\"RMS Error:\", error)"
   ]
  },
  {
   "cell_type": "code",
   "execution_count": 23,
   "metadata": {},
   "outputs": [],
   "source": [
    "def svd_decomposition(A):\n",
    "    eigenvalues, eigenvectors = np.linalg.eigh(np.dot(A, A.T))\n",
    "    index = np.argsort(eigenvalues)[::-1]   \n",
    "    eigenvalues = eigenvalues[index]\n",
    "    eigenvectors = eigenvectors[:, index]\n",
    "    U = eigenvectors\n",
    "\n",
    "    sigma = np.zeros((A.shape[0], A.shape[1]))\n",
    "    for i in range(np.min(A.shape)):\n",
    "        sigma[i, i] = np.sqrt(np.maximum(eigenvalues[i], 0))\n",
    "    Sigma = sigma\n",
    "\n",
    "    eigenvalues_v, eigenvectors_v = np.linalg.eigh(np.dot(A.T, A))\n",
    "    index_v = np.argsort(eigenvalues_v)[::-1]\n",
    "    eigenvalues_v = eigenvalues_v[index_v]\n",
    "    eigenvectors_v = eigenvectors_v[:, index_v]\n",
    "    V = eigenvectors_v\n",
    "    V_t = V.T\n",
    "\n",
    "    return U, Sigma, V_t"
   ]
  },
  {
   "cell_type": "code",
   "execution_count": 24,
   "id": "084ef684",
   "metadata": {},
   "outputs": [],
   "source": [
    "U, Sigma, V_t = svd_decomposition(gray_img)"
   ]
  },
  {
   "cell_type": "code",
   "execution_count": 40,
   "id": "6a894f60",
   "metadata": {},
   "outputs": [
    {
     "data": {
      "text/plain": [
       "(194, 194)"
      ]
     },
     "execution_count": 40,
     "metadata": {},
     "output_type": "execute_result"
    }
   ],
   "source": [
    "U.shape"
   ]
  },
  {
   "cell_type": "markdown",
   "id": "5a497c9b",
   "metadata": {},
   "source": [
    "## Sử dụng thư viện"
   ]
  },
  {
   "cell_type": "code",
   "execution_count": 196,
   "id": "d2512a9a",
   "metadata": {},
   "outputs": [],
   "source": [
    "U, Sigma, V_t = np.linalg.svd(gray_img, full_matrices=False)\n",
    "Sigma_matrix = np.diag(Sigma)\n",
    "new_img = U @ Sigma_matrix @ V_t\n",
    "new_img\n",
    "cv2.imshow('Reconstructed Image', new_img.astype(np.uint8))\n",
    "cv2.waitKey(0)\n",
    "cv2.destroyAllWindows()\n"
   ]
  },
  {
   "cell_type": "code",
   "execution_count": 199,
   "id": "ca6b348a",
   "metadata": {},
   "outputs": [
    {
     "data": {
      "text/plain": [
       "((194, 194), (194, 194), (194, 260))"
      ]
     },
     "execution_count": 199,
     "metadata": {},
     "output_type": "execute_result"
    }
   ],
   "source": [
    "U.shape, Sigma_matrix.shape, V_t.shape"
   ]
  },
  {
   "cell_type": "code",
   "execution_count": 204,
   "id": "ffb3aff1",
   "metadata": {},
   "outputs": [
    {
     "name": "stdout",
     "output_type": "stream",
     "text": [
      "Kích thước của U_k, Sigma_k, V_t: (194, 100) (100, 194) (194, 260)\n"
     ]
    }
   ],
   "source": [
    "k = 100\n",
    "U_k = U[:, :k]\n",
    "Sigma_k = Sigma_matrix[:k, :]\n",
    "\n",
    "print(\"Kích thước của U_k, Sigma_k, V_t:\", U_k.shape, Sigma_k.shape, V_t.shape)\n",
    "image = U_k @ Sigma_k @ V_t\n",
    "image\n",
    "cv2.imshow('Reconstructed Image', image.astype(np.uint8))\n",
    "cv2.waitKey(0)\n",
    "cv2.destroyAllWindows()"
   ]
  },
  {
   "cell_type": "code",
   "execution_count": null,
   "metadata": {},
   "outputs": [],
   "source": []
  },
  {
   "cell_type": "code",
   "execution_count": null,
   "metadata": {},
   "outputs": [],
   "source": []
  },
  {
   "cell_type": "code",
   "execution_count": null,
   "id": "a161bf72",
   "metadata": {},
   "outputs": [],
   "source": []
  },
  {
   "cell_type": "code",
   "execution_count": null,
   "id": "2067840c",
   "metadata": {},
   "outputs": [],
   "source": []
  },
  {
   "cell_type": "code",
   "execution_count": null,
   "metadata": {},
   "outputs": [],
   "source": []
  }
 ],
 "metadata": {
  "kernelspec": {
   "display_name": ".venv",
   "language": "python",
   "name": "python3"
  },
  "language_info": {
   "codemirror_mode": {
    "name": "ipython",
    "version": 3
   },
   "file_extension": ".py",
   "mimetype": "text/x-python",
   "name": "python",
   "nbconvert_exporter": "python",
   "pygments_lexer": "ipython3",
   "version": "3.12.0"
  }
 },
 "nbformat": 4,
 "nbformat_minor": 5
}
